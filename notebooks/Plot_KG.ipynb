{
 "cells": [
  {
   "cell_type": "markdown",
   "id": "1772c6b7",
   "metadata": {},
   "source": [
    "# Visualización de Grafos de Conocimiento (Wikidata-only)\n",
    "\n",
    "Este notebook carga un grafo RDF (`.ttl`) generado por tu pipeline y lo **plotea** con `networkx + matplotlib`."
   ]
  },
  {
   "cell_type": "markdown",
   "id": "c6e81bb6",
   "metadata": {},
   "source": [
    "## 1) Requisitos"
   ]
  },
  {
   "cell_type": "code",
   "execution_count": 2,
   "id": "5c709267",
   "metadata": {},
   "outputs": [
    {
     "name": "stdout",
     "output_type": "stream",
     "text": [
      "Requirement already satisfied: rdflib in /Users/diegolarraguibel/Desktop/Semestre 2025-2/ia generativa/historical_figures_KG/.venv/lib/python3.12/site-packages (7.2.1)\n",
      "Requirement already satisfied: networkx in /Users/diegolarraguibel/Desktop/Semestre 2025-2/ia generativa/historical_figures_KG/.venv/lib/python3.12/site-packages (3.5)\n",
      "Collecting matplotlib\n",
      "  Using cached matplotlib-3.10.7-cp312-cp312-macosx_11_0_arm64.whl.metadata (11 kB)\n",
      "Requirement already satisfied: pyparsing<4,>=2.1.0 in /Users/diegolarraguibel/Desktop/Semestre 2025-2/ia generativa/historical_figures_KG/.venv/lib/python3.12/site-packages (from rdflib) (3.2.5)\n",
      "Collecting contourpy>=1.0.1 (from matplotlib)\n",
      "  Using cached contourpy-1.3.3-cp312-cp312-macosx_11_0_arm64.whl.metadata (5.5 kB)\n",
      "Collecting cycler>=0.10 (from matplotlib)\n",
      "  Using cached cycler-0.12.1-py3-none-any.whl.metadata (3.8 kB)\n",
      "Collecting fonttools>=4.22.0 (from matplotlib)\n",
      "  Using cached fonttools-4.60.1-cp312-cp312-macosx_10_13_universal2.whl.metadata (112 kB)\n",
      "Collecting kiwisolver>=1.3.1 (from matplotlib)\n",
      "  Using cached kiwisolver-1.4.9-cp312-cp312-macosx_11_0_arm64.whl.metadata (6.3 kB)\n",
      "Collecting numpy>=1.23 (from matplotlib)\n",
      "  Using cached numpy-2.3.4-cp312-cp312-macosx_14_0_arm64.whl.metadata (62 kB)\n",
      "Requirement already satisfied: packaging>=20.0 in /Users/diegolarraguibel/Desktop/Semestre 2025-2/ia generativa/historical_figures_KG/.venv/lib/python3.12/site-packages (from matplotlib) (25.0)\n",
      "Collecting pillow>=8 (from matplotlib)\n",
      "  Using cached pillow-12.0.0-cp312-cp312-macosx_11_0_arm64.whl.metadata (8.8 kB)\n",
      "Requirement already satisfied: python-dateutil>=2.7 in /Users/diegolarraguibel/Desktop/Semestre 2025-2/ia generativa/historical_figures_KG/.venv/lib/python3.12/site-packages (from matplotlib) (2.9.0.post0)\n",
      "Requirement already satisfied: six>=1.5 in /Users/diegolarraguibel/Desktop/Semestre 2025-2/ia generativa/historical_figures_KG/.venv/lib/python3.12/site-packages (from python-dateutil>=2.7->matplotlib) (1.17.0)\n",
      "Using cached matplotlib-3.10.7-cp312-cp312-macosx_11_0_arm64.whl (8.1 MB)\n",
      "Using cached contourpy-1.3.3-cp312-cp312-macosx_11_0_arm64.whl (273 kB)\n",
      "Using cached cycler-0.12.1-py3-none-any.whl (8.3 kB)\n",
      "Using cached fonttools-4.60.1-cp312-cp312-macosx_10_13_universal2.whl (2.8 MB)\n",
      "Using cached kiwisolver-1.4.9-cp312-cp312-macosx_11_0_arm64.whl (64 kB)\n",
      "Using cached numpy-2.3.4-cp312-cp312-macosx_14_0_arm64.whl (5.1 MB)\n",
      "Using cached pillow-12.0.0-cp312-cp312-macosx_11_0_arm64.whl (4.7 MB)\n",
      "Installing collected packages: pillow, numpy, kiwisolver, fonttools, cycler, contourpy, matplotlib\n",
      "\u001b[2K   \u001b[90m━━━━━━━━━━━━━━━━━━━━━━━━━━━━━━━━━━━━━━━━\u001b[0m \u001b[32m7/7\u001b[0m [matplotlib]7\u001b[0m [matplotlib]\n",
      "\u001b[1A\u001b[2KSuccessfully installed contourpy-1.3.3 cycler-0.12.1 fonttools-4.60.1 kiwisolver-1.4.9 matplotlib-3.10.7 numpy-2.3.4 pillow-12.0.0\n",
      "Note: you may need to restart the kernel to use updated packages.\n"
     ]
    }
   ],
   "source": [
    "# Ejecuta esta celda si te falta alguna librería.\n",
    "# (Si ya las tienes, puedes omitirla.)\n",
    "try:\n",
    "    import rdflib, networkx, matplotlib\n",
    "except Exception:\n",
    "    %pip install rdflib networkx matplotlib\n"
   ]
  },
  {
   "cell_type": "markdown",
   "id": "78692538",
   "metadata": {},
   "source": [
    "## 2) Configurar rutas"
   ]
  },
  {
   "cell_type": "code",
   "execution_count": 6,
   "id": "a2fc26e7",
   "metadata": {},
   "outputs": [
    {
     "ename": "NameError",
     "evalue": "name '__file__' is not defined",
     "output_type": "error",
     "traceback": [
      "\u001b[31m---------------------------------------------------------------------------\u001b[39m",
      "\u001b[31mNameError\u001b[39m                                 Traceback (most recent call last)",
      "\u001b[36mCell\u001b[39m\u001b[36m \u001b[39m\u001b[32mIn[6]\u001b[39m\u001b[32m, line 3\u001b[39m\n\u001b[32m      1\u001b[39m \u001b[38;5;28;01mfrom\u001b[39;00m\u001b[38;5;250m \u001b[39m\u001b[34;01mpathlib\u001b[39;00m\u001b[38;5;250m \u001b[39m\u001b[38;5;28;01mimport\u001b[39;00m Path\n\u001b[32m----> \u001b[39m\u001b[32m3\u001b[39m REPO_ROOT = Path(\u001b[34;43m__file__\u001b[39;49m).resolve().parents[\u001b[32m1\u001b[39m]\n\u001b[32m      4\u001b[39m GRAPHS_DIR = REPO_ROOT / \u001b[33m\"\u001b[39m\u001b[33msrc\u001b[39m\u001b[33m\"\u001b[39m / \u001b[33m\"\u001b[39m\u001b[33mdata\u001b[39m\u001b[33m\"\u001b[39m / \u001b[33m\"\u001b[39m\u001b[33mgraphs\u001b[39m\u001b[33m\"\u001b[39m / \u001b[33m\"\u001b[39m\u001b[33mfull\u001b[39m\u001b[33m\"\u001b[39m\n\u001b[32m      5\u001b[39m \u001b[38;5;28;01massert\u001b[39;00m GRAPHS_DIR.exists(), \u001b[33mf\u001b[39m\u001b[33m\"\u001b[39m\u001b[33mNo encuentro \u001b[39m\u001b[38;5;132;01m{\u001b[39;00mGRAPHS_DIR\u001b[38;5;132;01m}\u001b[39;00m\u001b[33m. ¿Estás ejecutando dentro del repositorio?\u001b[39m\u001b[33m\"\u001b[39m\n",
      "\u001b[31mNameError\u001b[39m: name '__file__' is not defined"
     ]
    }
   ],
   "source": [
    "from pathlib import Path\n",
    "\n",
    "REPO_ROOT = Path.cwd().resolve().parents[3]\n",
    "GRAPHS_DIR = REPO_ROOT / \"src\" / \"data\" / \"graphs\" / \"full\"\n",
    "assert GRAPHS_DIR.exists(), f\"No encuentro {GRAPHS_DIR}. ¿Estás ejecutando dentro del repositorio?\"\n",
    "\n",
    "ttl_files = sorted(GRAPHS_DIR.glob(\"*.ttl\"))\n",
    "print(f\"Se encontraron {len(ttl_files)} grafos en {GRAPHS_DIR}\")\n",
    "for p in ttl_files[:10]:\n",
    "    print(\" -\", p.name)\n",
    "TTL_FILE = ttl_files[0] if ttl_files else None\n",
    "print(\"Usando:\", TTL_FILE)\n"
   ]
  },
  {
   "cell_type": "markdown",
   "id": "c3c31c4d",
   "metadata": {},
   "source": [
    "## 3) Función de ploteo"
   ]
  },
  {
   "cell_type": "code",
   "execution_count": null,
   "id": "03e7c8ad",
   "metadata": {},
   "outputs": [],
   "source": [
    "import matplotlib.pyplot as plt\n",
    "import networkx as nx\n",
    "from rdflib import Graph, URIRef, Namespace\n",
    "\n",
    "WDT = Namespace(\"http://www.wikidata.org/prop/direct/\")\n",
    "\n",
    "def plot_graph_degree1(ttl_path, max_edges=40, figsize=(12, 9)):\n",
    "    g = Graph()\n",
    "    g.parse(ttl_path, format=\"turtle\")\n",
    "    G = nx.DiGraph()\n",
    "    for s, p, o in g.triples((None, None, None)):\n",
    "        if isinstance(s, URIRef) and isinstance(o, URIRef) and str(p).startswith(str(WDT)):\n",
    "            G.add_edge(str(s), str(o), label=str(p))\n",
    "    if G.number_of_edges() == 0:\n",
    "        raise ValueError(\"No se encontraron aristas 'wdt:' en el grafo.\")\n",
    "    edges = list(G.edges)[:max_edges]\n",
    "    H = G.edge_subgraph(edges).copy()\n",
    "    pos = nx.spring_layout(H, k=0.6, seed=42)\n",
    "    plt.figure(figsize=figsize)\n",
    "    nx.draw(H, pos, with_labels=False, node_color=\"#a0cbe2\", edge_color=\"#333333\", node_size=500, arrowsize=16)\n",
    "    node_labels = {n: n.split(\"/\")[-1] for n in H.nodes()}\n",
    "    nx.draw_networkx_labels(H, pos, node_labels, font_size=9)\n",
    "    edge_labels = {(u, v): d.get(\"label\", \"\").split(\"/\")[-1] for u, v, d in H.edges(data=True)}\n",
    "    nx.draw_networkx_edge_labels(H, pos, edge_labels=edge_labels, font_size=8)\n",
    "    plt.title(f\"Grafo RDF (nodos={H.number_of_nodes()}, aristas={H.number_of_edges()})\")\n",
    "    plt.axis(\"off\")\n",
    "    plt.show()\n"
   ]
  },
  {
   "cell_type": "markdown",
   "id": "38291d58",
   "metadata": {},
   "source": [
    "## 4) Plotear el grafo"
   ]
  },
  {
   "cell_type": "code",
   "execution_count": null,
   "id": "4bf8b0f5",
   "metadata": {},
   "outputs": [],
   "source": [
    "if TTL_FILE is None:\n",
    "    raise SystemExit(\"No se encontró ningún TTL en graphs/full/. Genera grafos con el pipeline y reintenta.\")\n",
    "plot_graph_degree1(TTL_FILE, max_edges=40)\n"
   ]
  }
 ],
 "metadata": {
  "kernelspec": {
   "display_name": ".venv",
   "language": "python",
   "name": "python3"
  },
  "language_info": {
   "codemirror_mode": {
    "name": "ipython",
    "version": 3
   },
   "file_extension": ".py",
   "mimetype": "text/x-python",
   "name": "python",
   "nbconvert_exporter": "python",
   "pygments_lexer": "ipython3",
   "version": "3.12.10"
  }
 },
 "nbformat": 4,
 "nbformat_minor": 5
}
